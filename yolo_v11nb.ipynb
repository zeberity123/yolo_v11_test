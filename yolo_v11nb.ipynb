{
 "cells": [
  {
   "cell_type": "code",
   "execution_count": 1,
   "metadata": {},
   "outputs": [],
   "source": [
    "from ultralytics import YOLO\n",
    "import numpy as np"
   ]
  },
  {
   "cell_type": "code",
   "execution_count": 2,
   "metadata": {},
   "outputs": [],
   "source": [
    "model = YOLO(\"yolo11x.pt\")\n",
    "# model = YOLO(\"yolo11x-cls.pt\")"
   ]
  },
  {
   "cell_type": "code",
   "execution_count": null,
   "metadata": {},
   "outputs": [
    {
     "name": "stdout",
     "output_type": "stream",
     "text": [
      "\n"
     ]
    },
    {
     "name": "stderr",
     "output_type": "stream",
     "text": [
      "c:\\Users\\Darudayu\\AppData\\Local\\Programs\\Python\\Python310\\lib\\site-packages\\tqdm\\auto.py:21: TqdmWarning: IProgress not found. Please update jupyter and ipywidgets. See https://ipywidgets.readthedocs.io/en/stable/user_install.html\n",
      "  from .autonotebook import tqdm as notebook_tqdm\n"
     ]
    },
    {
     "name": "stdout",
     "output_type": "stream",
     "text": [
      "image 1/1 c:\\Users\\Darudayu\\Desktop\\yolo_v11_test\\2024_NIA_CM_SOU_REAL_M_A2_OA_NA_D_03324_Pre.JPG: 384x640 1 person, 2 cars, 2 trucks, 121.8ms\n",
      "Speed: 6.0ms preprocess, 121.8ms inference, 117.5ms postprocess per image at shape (1, 3, 384, 640)\n"
     ]
    }
   ],
   "source": [
    "results = model(\"2024_NIA_CM_SOU_REAL_M_A2_OA_NA_D_03324_Pre.JPG\")"
   ]
  },
  {
   "cell_type": "code",
   "execution_count": null,
   "metadata": {},
   "outputs": [
    {
     "name": "stdout",
     "output_type": "stream",
     "text": [
      "<class 'ultralytics.engine.results.Results'>\n"
     ]
    }
   ],
   "source": [
    "# print(len(results[0][4]))\n",
    "# for i in results[0]:\n",
    "#     i.show()\n",
    "# results[0][0].show()\n",
    "# print(results)"
   ]
  },
  {
   "cell_type": "code",
   "execution_count": 65,
   "metadata": {},
   "outputs": [
    {
     "name": "stdout",
     "output_type": "stream",
     "text": [
      "\n",
      "image 1/1 c:\\Users\\Darudayu\\Desktop\\yolo_v11_test\\2024_NIA_CM_SOU_REAL_M_A2_OA_NA_D_03324_Pre.JPG: 384x640 1 person, 2 cars, 2 trucks, 238.4ms\n",
      "Speed: 3.0ms preprocess, 238.4ms inference, 1.0ms postprocess per image at shape (1, 3, 384, 640)\n",
      "{'name': 'truck', 'class': 7, 'confidence': 0.91244, 'box': {'x1': 856.36963, 'y1': 371.57309, 'x2': 1063.29199, 'y2': 626.52161}}\n",
      "truck\n"
     ]
    }
   ],
   "source": [
    "p_results = model(\"2024_NIA_CM_SOU_REAL_M_A2_OA_NA_D_03324_Pre.JPG\")\n",
    "\n",
    "jssss = p_results[0][2].summary()\n",
    "print(jssss[0])\n",
    "print(jssss[0]['name'])"
   ]
  }
 ],
 "metadata": {
  "kernelspec": {
   "display_name": "Python 3",
   "language": "python",
   "name": "python3"
  },
  "language_info": {
   "codemirror_mode": {
    "name": "ipython",
    "version": 3
   },
   "file_extension": ".py",
   "mimetype": "text/x-python",
   "name": "python",
   "nbconvert_exporter": "python",
   "pygments_lexer": "ipython3",
   "version": "3.10.7"
  }
 },
 "nbformat": 4,
 "nbformat_minor": 2
}
